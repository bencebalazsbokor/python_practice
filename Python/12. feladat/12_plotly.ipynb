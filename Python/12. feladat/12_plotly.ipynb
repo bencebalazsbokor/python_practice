{
 "cells": [
  {
   "cell_type": "markdown",
   "id": "roman-animal",
   "metadata": {},
   "source": [
    "1.  Töltsd be a szeged.csv dokumentumot. Formázd a 'Formatted Date' oszlopot: vágd le a szöveg végéről a mikromásodpercet és az időzónát, majd a megmaradt oszlopot konvertáld dátum formátúvá."
   ]
  },
  {
   "cell_type": "code",
   "execution_count": null,
   "id": "champion-contrast",
   "metadata": {},
   "outputs": [],
   "source": [
    "import pandas as pd\n",
    "\n",
    "df = pd.read_csv('source/szeged.csv')\n",
    "df['Date'] = pd.to_datetime(df['Formatted Date'].str[:19])"
   ]
  },
  {
   "cell_type": "markdown",
   "id": "satisfied-network",
   "metadata": {},
   "source": [
    "2.  Készíts egy vonaldiagramot a 2016 április 4. tapasztalható hőmérsékletről."
   ]
  },
  {
   "cell_type": "code",
   "execution_count": null,
   "id": "uniform-sheriff",
   "metadata": {},
   "outputs": [],
   "source": [
    "import pandas as pd\n",
    "import plotly.express as px\n",
    "\n",
    "df = pd.read_csv('source/szeged.csv')\n",
    "df['Date'] = pd.to_datetime(df['Formatted Date'].str[:19])\n",
    "\n",
    "fig = (px.line(\n",
    "    df.loc[df['Date'].dt.date.astype(str) == '2016-04-01'], \n",
    "    x='Date', \n",
    "    y='Temperature (C)'))\n",
    "fig.show()"
   ]
  },
  {
   "cell_type": "markdown",
   "id": "stupid-consensus",
   "metadata": {},
   "source": [
    "3.  Készíts egy szórványdiagramot az összes decemberi hőmérsékletekről. Az ábrán a kurzor kijelölése esetén szerepeljen a pontos időpont. Az ábra alapján olvasd le pontosan mikor volt a leghidegebb és legemelegebb a vizsgált időszakban"
   ]
  },
  {
   "cell_type": "code",
   "execution_count": null,
   "id": "diagnostic-manitoba",
   "metadata": {},
   "outputs": [],
   "source": [
    "import pandas as pd\n",
    "import plotly.express as px\n",
    "\n",
    "df = pd.read_csv('source/szeged.csv')\n",
    "df['Date'] = pd.to_datetime(df['Formatted Date'].str[:19])\n",
    "\n",
    "fig = (px.scatter(\n",
    "    df.loc[df['Date'].dt.month == 12], \n",
    "    x='Date', \n",
    "    y='Temperature (C)', \n",
    "    hover_name='Date'))\n",
    "fig.show()"
   ]
  },
  {
   "cell_type": "markdown",
   "id": "waiting-temple",
   "metadata": {},
   "source": [
    "4.  Szűrd le az adatokat azokra az esetekre amikor 40-nél nagyobb volt a szél. Készíts egy 3d szórványdiagramot, amelynek x értéke a látási távolság, y értéke a szélsebesség és z értéke a hőmérséklet. Az ábra alapján mond meg, hogy melyik időpontban volt a legnagyobb a szél, mikor volt legnagyobb a hőmérséklet és mikor volt az a hóesős időpont amikor a legkisebb volt a látótávolság."
   ]
  },
  {
   "cell_type": "code",
   "execution_count": null,
   "id": "restricted-crisis",
   "metadata": {},
   "outputs": [],
   "source": [
    "import pandas as pd\n",
    "import plotly.express as px\n",
    "\n",
    "df = pd.read_csv('source/szeged.csv')\n",
    "df['Date'] = pd.to_datetime(df['Formatted Date'].str[:19])\n",
    "\n",
    "df_wind = df.loc[df['Wind Speed (km/h)'] > 40]\n",
    "\n",
    "fig = (px.scatter_3d(\n",
    "    df_wind, \n",
    "    x='Visibility (km)', \n",
    "    y='Wind Speed (km/h)', \n",
    "    z='Temperature (C)', \n",
    "    hover_name='Date', \n",
    "    color='Precip Type'))\n",
    "fig.show()\n",
    "\n",
    "# Az ábrán jelölni kell a hóeséses időpontokat a színnel így megfelelően forgatva látszik, hogy\n",
    "# Lekisebb láthatóság: ~1.37 km, 2006-03-13T06:00:00\n",
    "# Legnagyobb szélsebesség: ~63.85 km/h, 2007-01-29T13:00:00\n",
    "# Legnagyobb hőmérséklet: ~27.22 °C, 2012-04-29T12:00:00"
   ]
  },
  {
   "cell_type": "markdown",
   "id": "adopted-midwest",
   "metadata": {},
   "source": [
    "5.  Csinálj egy új oszlopot, amely a valós és érezhető hőmérséklet közti különbséget tartalmazza. Nevezd el 'Temp Diff'-nek. Szűrd le az adattáblát úgy, hogy csak a 2010-es és csak az 1-nél nagyobb 'Temp Diff' adatokat tartalmazza. Készíts egy olyan ábrát, ahol az X-tengegy a 'Temp Diff', Y-tengely pedig a szélsebesség. Az ábrán leugró fül segítségével ki lehessen választani, hogy szórványdiagramot vagy hisztogramot akarunk-e látni."
   ]
  },
  {
   "cell_type": "code",
   "execution_count": null,
   "id": "unique-variance",
   "metadata": {},
   "outputs": [],
   "source": [
    "import pandas as pd\n",
    "import plotly.express as px\n",
    "\n",
    "df = pd.read_csv('source/szeged.csv')\n",
    "df['Date'] = pd.to_datetime(df['Formatted Date'].str[:19])\n",
    "df['Temp Diff'] = df['Temperature (C)'] - df['Apparent Temperature (C)']\n",
    "df_temp = df.loc[(df['Temp Diff'] > 1) & (df['Date'].dt.year == 2010)]\n",
    "\n",
    "plot = px.scatter(df_temp, x='Temp Diff', y='Wind Speed (km/h)')\n",
    " \n",
    "# A leugró fül implementálása\n",
    "plot.update_layout(\n",
    "    updatemenus=[\n",
    "        dict(\n",
    "            buttons=list([\n",
    "                dict(\n",
    "                    args=['type', 'scatter'],\n",
    "                    label='Szórványdiagram',\n",
    "                    method='restyle'\n",
    "                ),\n",
    "                dict(\n",
    "                    args=['type', 'histogram'],\n",
    "                    label='Hisztogram',\n",
    "                    method='restyle'\n",
    "                )\n",
    "            ]),\n",
    "            direction='down',\n",
    "        ),\n",
    "    ]\n",
    ")\n",
    " \n",
    "plot.show()"
   ]
  }
 ],
 "metadata": {
  "kernelspec": {
   "display_name": "Python 3",
   "language": "python",
   "name": "python3"
  },
  "language_info": {
   "codemirror_mode": {
    "name": "ipython",
    "version": 3
   },
   "file_extension": ".py",
   "mimetype": "text/x-python",
   "name": "python",
   "nbconvert_exporter": "python",
   "pygments_lexer": "ipython3",
   "version": "3.9.1"
  }
 },
 "nbformat": 4,
 "nbformat_minor": 5
}
