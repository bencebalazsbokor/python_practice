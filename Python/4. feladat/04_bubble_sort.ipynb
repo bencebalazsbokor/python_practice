{
 "cells": [
  {
   "cell_type": "code",
   "execution_count": 1,
   "id": "91b0232e",
   "metadata": {},
   "outputs": [
    {
     "name": "stdout",
     "output_type": "stream",
     "text": [
      "[1, 1, 2, 2, 4, 4, 5, 5, 6, 8, 9, 11, 12, 12, 12, 13, 13, 13, 14, 15, 19, 21, 22, 24, 25, 26, 29, 29, 29, 30, 30, 31, 32, 32, 33, 34, 36, 37, 39, 40, 44, 46, 47, 47, 49, 50, 51, 51, 52, 54, 54, 56, 56, 58, 59, 60, 61, 61, 62, 62, 63, 63, 63, 64, 64, 64, 66, 68, 70, 71, 72, 72, 72, 73, 74, 75, 76, 77, 77, 78, 78, 79, 81, 81, 82, 82, 83, 84, 84, 85, 85, 85, 86, 87, 89, 89, 91, 92, 93, 94]\n"
     ]
    }
   ],
   "source": [
    "def bubble_sort(lista):\n",
    "    # Ezzel a sorral érhető el, hogy lemásoljuk a listát, és ne írjuk felül az eredetit\n",
    "    lista = lista[:]\n",
    "    n = len(lista)\n",
    "\n",
    "    # Végigmegyünk a listán fordított irányban\n",
    "    # Ezzel a ciklussal érjük el, hogy egyre rövidebb listát vizsgáljunk\n",
    "    # A range használata esetén a fordított lépéshez az intervallum határait is fel kell cserélni        \n",
    "    # Egyetlen elemre nincs értelme az összehasonlításnak, ezért 1-ig megy a range\n",
    "    # A range továbbra is jobbról nyitott, ezért 0 a záró érték\n",
    "    # Alternatíva: reversed(range(1, n))\n",
    "    for i in range(n - 1, 0, -1):\n",
    "        # Legfeljebb az i aktuális értékéig megyünk\n",
    "        # A jobbról nyitott intervallum miatt a j nem éri el az aktuálisan vizsgált utolsó elemet\n",
    "        # Így a j és a j+1 értékek összehasonlítása során nem fogunk az indexen kívülre mutatni\n",
    "        for j in range(i):\n",
    "            # Összehasonlítjuk a soron következő értékpárt\n",
    "            if lista[j] > lista[j + 1]:\n",
    "                # Ha vizsgált elem nagyobb, mint a következő, akkor felcseréljük őket\n",
    "                # A változó értékek cseréjéhez általában kell egy ideiglenes változó\n",
    "                temp = lista[j]\n",
    "                lista[j] = lista[j + 1]\n",
    "                lista[j + 1] = temp\n",
    "                \n",
    "                # De Pythonban létezik egyszerűbb írásmód is\n",
    "                # lista[j], lista[j + 1] = lista[j + 1], lista[j]\n",
    "    \n",
    "    # A külső ciklus végeztével visszaadjuk a rendezett listát\n",
    "    return lista\n",
    "\n",
    "with open(\"szamok.txt\") as f:    \n",
    "    x = []\n",
    "    for line in f.readlines():\n",
    "        x.append(int(line))\n",
    "print(bubble_sort(x))"
   ]
  },
  {
   "cell_type": "markdown",
   "id": "f7d2dca8",
   "metadata": {},
   "source": [
    "Amennyiben menet közben azt is vizsgáljuk, hogy már sorban vannak-e az értékek, valamivel javíthatjuk a teljesítményt."
   ]
  },
  {
   "cell_type": "code",
   "execution_count": 2,
   "id": "025f0cb5",
   "metadata": {},
   "outputs": [
    {
     "name": "stdout",
     "output_type": "stream",
     "text": [
      "[1, 1, 2, 2, 4, 4, 5, 5, 6, 8, 9, 11, 12, 12, 12, 13, 13, 13, 14, 15, 19, 21, 22, 24, 25, 26, 29, 29, 29, 30, 30, 31, 32, 32, 33, 34, 36, 37, 39, 40, 44, 46, 47, 47, 49, 50, 51, 51, 52, 54, 54, 56, 56, 58, 59, 60, 61, 61, 62, 62, 63, 63, 63, 64, 64, 64, 66, 68, 70, 71, 72, 72, 72, 73, 74, 75, 76, 77, 77, 78, 78, 79, 81, 81, 82, 82, 83, 84, 84, 85, 85, 85, 86, 87, 89, 89, 91, 92, 93, 94]\n"
     ]
    }
   ],
   "source": [
    "def bubble_sort(lista):\n",
    "    lista = lista[:]\n",
    "    n = len(lista)\n",
    "    \n",
    "    for i in reversed(range(1, n)):\n",
    "        # Logikai változó annak tárolására, hogy sorban vannak-e az elemek az adott iterációban\n",
    "        # Alapértelmezetten azt feltételezzük, hogy igen\n",
    "        helyes_sorrend = True\n",
    "        \n",
    "        for j in range(i):            \n",
    "            if lista[j] > lista[j + 1]:\n",
    "                lista[j], lista[j + 1] = lista[j + 1], lista[j]\n",
    "                # Amennyiben csere történik, biztos nem volt helyes a sorrend\n",
    "                helyes_sorrend = False\n",
    "                \n",
    "        # Ha a fő ciklusban előfordul olyan eset, hogy végig értünk\n",
    "        # de nem történt csere, akkor biztosan sorban vannak az értékek,\n",
    "        # tehát megállhat a futtatás\n",
    "        if helyes_sorrend:\n",
    "            break\n",
    "        \n",
    "    return lista\n",
    "\n",
    "with open(\"szamok.txt\") as f:    \n",
    "    x = []\n",
    "    for line in f.readlines():\n",
    "        x.append(int(line))\n",
    "print(bubble_sort(x))"
   ]
  }
 ],
 "metadata": {
  "kernelspec": {
   "display_name": "Python 3 (ipykernel)",
   "language": "python",
   "name": "python3"
  },
  "language_info": {
   "codemirror_mode": {
    "name": "ipython",
    "version": 3
   },
   "file_extension": ".py",
   "mimetype": "text/x-python",
   "name": "python",
   "nbconvert_exporter": "python",
   "pygments_lexer": "ipython3",
   "version": "3.9.6"
  }
 },
 "nbformat": 4,
 "nbformat_minor": 5
}
