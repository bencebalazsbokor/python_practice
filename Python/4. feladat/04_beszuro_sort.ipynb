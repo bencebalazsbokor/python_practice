{
 "cells": [
  {
   "cell_type": "code",
   "execution_count": 1,
   "id": "fbccff21",
   "metadata": {},
   "outputs": [
    {
     "name": "stdout",
     "output_type": "stream",
     "text": [
      "[1, 1, 2, 2, 4, 4, 5, 5, 6, 8, 9, 11, 12, 12, 12, 13, 13, 13, 14, 15, 19, 21, 22, 24, 25, 26, 29, 29, 29, 30, 30, 31, 32, 32, 33, 34, 36, 37, 39, 40, 44, 46, 47, 47, 49, 50, 51, 51, 52, 54, 54, 56, 56, 58, 59, 60, 61, 61, 62, 62, 63, 63, 63, 64, 64, 64, 66, 68, 70, 71, 72, 72, 72, 73, 74, 75, 76, 77, 77, 78, 78, 79, 81, 81, 82, 82, 83, 84, 84, 85, 85, 85, 86, 87, 89, 89, 91, 92, 93, 94]\n"
     ]
    }
   ],
   "source": [
    "def insertion_sort(lista):\n",
    "    lista = lista[:]\n",
    "    n = len(lista)\n",
    "    \n",
    "    # Az első elemtől megyünk mert legalább két érték kell a beszúráshoz\n",
    "    # A ciklus iterációk során egyre nagyobb intervallumba próbáljuk elhelyezni az éppen vizsgált elemet\n",
    "    for i in range(1, len(lista)):\n",
    "        # Kiválasztjuk az aktuális \"kulcs elemet\", amit el akarunk helyezni az adott intervallumban \n",
    "        kulcs_elem = lista[i]\n",
    "\n",
    "        # Index változó, amit a kulcs_elem pozíciójának meghatározására használunk\n",
    "        # A közvetlen előtte levő értéktől indulunk\n",
    "        j = i - 1\n",
    "\n",
    "        # Az indexet addig csökkentjük, míg el nem érjük a nullát\n",
    "        # vagy olyan értéket nem találunk, ami kisebb, mint kulcs_elem        \n",
    "        while j >= 0 and lista[j] > kulcs_elem:\n",
    "            # Amíg a kulcs_elem nem nagyobb, mint az aktuálisan vizsgált elem\n",
    "            # addig tudjuk, hogy az a listában tőle jobbra lesz, tehát eggyel jobbra toljuk\n",
    "            lista[j + 1] = lista[j]\n",
    "            # Csökkentjük az indexet\n",
    "            j -= 1\n",
    "\n",
    "        # Ha kilépünk a ciklusból, akkor biztosan megtaláltuk a kulcs_elem helyét\n",
    "        lista[j + 1] = kulcs_elem\n",
    "\n",
    "    return lista\n",
    "\n",
    "with open(\"szamok.txt\") as f:    \n",
    "    x = []\n",
    "    for line in f.readlines():\n",
    "        x.append(int(line))\n",
    "print(insertion_sort(x))"
   ]
  }
 ],
 "metadata": {
  "kernelspec": {
   "display_name": "Python 3 (ipykernel)",
   "language": "python",
   "name": "python3"
  },
  "language_info": {
   "codemirror_mode": {
    "name": "ipython",
    "version": 3
   },
   "file_extension": ".py",
   "mimetype": "text/x-python",
   "name": "python",
   "nbconvert_exporter": "python",
   "pygments_lexer": "ipython3",
   "version": "3.9.6"
  }
 },
 "nbformat": 4,
 "nbformat_minor": 5
}
