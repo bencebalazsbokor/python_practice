{
 "cells": [
  {
   "cell_type": "code",
   "execution_count": 1,
   "id": "3d48f0c4",
   "metadata": {},
   "outputs": [
    {
     "name": "stdout",
     "output_type": "stream",
     "text": [
      "[1, 1, 2, 2, 4, 4, 5, 5, 6, 8, 9, 11, 12, 12, 12, 13, 13, 13, 14, 15, 19, 21, 22, 24, 25, 26, 29, 29, 29, 30, 30, 31, 32, 32, 33, 34, 36, 37, 39, 40, 44, 46, 47, 47, 49, 50, 51, 51, 52, 54, 54, 56, 56, 58, 59, 60, 61, 61, 62, 62, 63, 63, 63, 64, 64, 64, 66, 68, 70, 71, 72, 72, 72, 73, 74, 75, 76, 77, 77, 78, 78, 79, 81, 81, 82, 82, 83, 84, 84, 85, 85, 85, 86, 87, 89, 89, 91, 92, 93, 94]\n"
     ]
    }
   ],
   "source": [
    "def merge(bal, jobb):\n",
    "    # Mindkét lista a fő algoritmus jellegéből adódóan nem lehet üres\n",
    "    # Ha a bal oldali lista üres, akkor visszatérünk a jobb oldali listával\n",
    "    if len(bal) == 0:\n",
    "        return jobb\n",
    "\n",
    "    # Ha a jobb oldali lista üres, akkor visszatérünk a bal oldali listával\n",
    "    if len(jobb) == 0:\n",
    "        return bal\n",
    "\n",
    "    eredmeny = [] # Ebben a változóban tároljuk majd az összevont listát\n",
    "    bal_index = 0 \n",
    "    jobb_index = 0\n",
    "\n",
    "    # Addig haladunk az indexeken, amíg az eredmény listába bekerül az összes elem,\n",
    "    # tehát amíg az eredmény lista hossza el nem éri a két lista hosszának összegét\n",
    "    while len(eredmeny) < len(bal) + len(jobb):\n",
    "        # A sorban történő hozzáadáshoz el kell dönteni, hogy épp melyik listából\n",
    "        # kell venni az aktuális elemet\n",
    "        # A kisebb aktuális érték kerül az eredménybe, és\n",
    "        # A kiválasztott érték indexét megnöveljük eggyel        \n",
    "        if bal[bal_index] <= jobb[jobb_index]:\n",
    "            eredmeny.append(bal[bal_index])\n",
    "            bal_index += 1\n",
    "        else:\n",
    "            eredmeny.append(jobb[jobb_index])\n",
    "            jobb_index += 1\n",
    "\n",
    "        # Az előző feltétel hibára futna, ha elérjük bármelyik részlista végét\n",
    "        # Ezért ebben az esetben a másik lista fennmaradó részét egyszerűen\n",
    "        # hozzáfűzzük az eredményhez, és megállítjuk a ciklust        \n",
    "        if jobb_index == len(jobb):\n",
    "            eredmeny += bal[bal_index:]\n",
    "            break\n",
    "\n",
    "        if bal_index == len(bal):\n",
    "            eredmeny += jobb[jobb_index:]\n",
    "            break\n",
    "\n",
    "    return eredmeny\n",
    "\n",
    "def merge_sort(lista):\n",
    "    lista = lista[:]\n",
    "    \n",
    "    # Ha a listában kevesebb, mint 2 elem van, akkor visszatérünk a listával,\n",
    "    # hiszen már \"rendezett\"\n",
    "    if len(lista) < 2:\n",
    "        return lista\n",
    "\n",
    "    # Meghatározzuk a középső indexet\n",
    "    kozep = int(len(lista) / 2)\n",
    "\n",
    "    # Meghatározzuk a középponttól balra és jobbra levő listák elemeinek sorrendjét\n",
    "    # Ehhez rekurzívan meghívjuk ugyanezt a függvényt a szétvágott részlistákkal\n",
    "    bal = merge_sort(lista[:kozep])\n",
    "    jobb = merge_sort(lista[kozep:])\n",
    "    \n",
    "    # A két, már rendezett listát összefésüljük\n",
    "    eredmeny = merge(bal, jobb)\n",
    "\n",
    "    return eredmeny\n",
    "\n",
    "with open(\"szamok.txt\") as f:    \n",
    "    x = []\n",
    "    for line in f.readlines():\n",
    "        x.append(int(line))\n",
    "print(merge_sort(x))"
   ]
  }
 ],
 "metadata": {
  "kernelspec": {
   "display_name": "Python 3 (ipykernel)",
   "language": "python",
   "name": "python3"
  },
  "language_info": {
   "codemirror_mode": {
    "name": "ipython",
    "version": 3
   },
   "file_extension": ".py",
   "mimetype": "text/x-python",
   "name": "python",
   "nbconvert_exporter": "python",
   "pygments_lexer": "ipython3",
   "version": "3.9.6"
  }
 },
 "nbformat": 4,
 "nbformat_minor": 5
}
