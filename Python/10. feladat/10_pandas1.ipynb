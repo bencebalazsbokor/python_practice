{
 "cells": [
  {
   "cell_type": "markdown",
   "id": "81eb6988",
   "metadata": {},
   "source": [
    "1. Olvasd be a szeged.csv fájlt. Nézd meg az első pár sorát, a teljes adatbázis méretét, irasd ki a leíro statisztikákat és a korrelációt az oszlopok között."
   ]
  },
  {
   "cell_type": "code",
   "execution_count": null,
   "id": "f8e8060b",
   "metadata": {},
   "outputs": [],
   "source": [
    "import pandas as pd\n",
    "df = pd.read_csv('source/szeged.csv')\n",
    "\n",
    "display(df.head())\n",
    "display(df.shape)\n",
    "display(df.describe())\n",
    "display(df.corr(numeric_only=True))"
   ]
  },
  {
   "cell_type": "markdown",
   "id": "c4e20854",
   "metadata": {},
   "source": [
    "2. Olvasd be a szeged.csv fájlt. Töröld a \"Loud Cover\" és \"Daily Summary\" oszlopokat. Nevezd át a maradék oszlopokat úgy, hogy mindegyik kisbetűs és _-al legyenek elválasztva szavak"
   ]
  },
  {
   "cell_type": "code",
   "execution_count": null,
   "id": "7911a8ff",
   "metadata": {},
   "outputs": [],
   "source": [
    "import pandas as pd\n",
    "df = pd.read_csv('source/szeged.csv')\n",
    "\n",
    "df.drop(columns=['Loud Cover', 'Daily Summary'], inplace=True)\n",
    "\n",
    "# Manuális átnevezés, akár magyarra is fordíthatjuk így a fejléceket\n",
    "df.rename(columns=dict(zip(df.columns, \n",
    "                           ['dátum', 'leírás', 'csapadék', 'hőmérséklet_c', \n",
    "                            'hőérzet_c', 'páratartalom', 'szélsebesség_kmh', \n",
    "                            'szélirány_fok', 'láthatóság_km', 'légnyomás_mbar'])), \n",
    "          inplace=True)\n",
    "\n",
    "display(df.head())"
   ]
  },
  {
   "cell_type": "code",
   "execution_count": null,
   "id": "568aad95",
   "metadata": {},
   "outputs": [],
   "source": [
    "import pandas as pd\n",
    "df = pd.read_csv('source/szeged.csv')\n",
    "\n",
    "df.drop(columns=['Loud Cover', 'Daily Summary'], inplace=True)\n",
    "\n",
    "# Átnevezés kódból\n",
    "# A) opció\n",
    "új_nevek = []\n",
    "for c in df.columns:\n",
    "    új_nevek.append(c.lower().replace(\" \", \"_\"))\n",
    "df.columns = pd.Series(új_nevek)\n",
    "\n",
    "# B) opció - de ehhez a 2. Pandas anyag szükséges\n",
    "# df.columns = df.columns.str.lower().str.replace(\" \", \"_\")\n",
    "\n",
    "display(df.head())"
   ]
  },
  {
   "cell_type": "markdown",
   "id": "a7b913dd",
   "metadata": {},
   "source": [
    "3. Nézd meg melyik napon vol a legnagyobb a láthatóság? Mi volt az átlagos páratartalom? Melyik nap volt a legnagyobb különbség a hőmérséklet és a hőérzet között?"
   ]
  },
  {
   "cell_type": "code",
   "execution_count": null,
   "id": "5177b750",
   "metadata": {},
   "outputs": [],
   "source": [
    "import pandas as pd\n",
    "df = pd.read_csv('source/szeged.csv')\n",
    "\n",
    "display(df.loc[df['Visibility (km)'].idxmax()])\n",
    "display(df['Humidity'].mean())\n",
    "display(df.loc[(df['Temperature (C)'] - df['Apparent Temperature (C)']).idxmax()])"
   ]
  },
  {
   "cell_type": "markdown",
   "id": "663501d8",
   "metadata": {},
   "source": [
    "4. Hány olyan sor van ahol hó esett, a leírás alapján ködös idő volt és vagy 0 és 20 méter között volt a láthatóság vagy 3.2 km felett volt a láthatóság, de a páratartalom 0.9 alatt volt?"
   ]
  },
  {
   "cell_type": "code",
   "execution_count": null,
   "id": "2ece99bf",
   "metadata": {},
   "outputs": [],
   "source": [
    "import pandas as pd\n",
    "df = pd.read_csv('source/szeged.csv')\n",
    "\n",
    "df.loc[(df['Precip Type'] == 'snow') & \n",
    "       (df['Summary'] == 'Foggy') & \n",
    "       (((df['Visibility (km)'] < 0.02) & (df['Visibility (km)'] > 0)) | \n",
    "        ((df['Visibility (km)'] > 3.2) & (df['Humidity'] < 0.9)))]"
   ]
  }
 ],
 "metadata": {
  "kernelspec": {
   "display_name": "Python 3",
   "language": "python",
   "name": "python3"
  },
  "language_info": {
   "codemirror_mode": {
    "name": "ipython",
    "version": 3
   },
   "file_extension": ".py",
   "mimetype": "text/x-python",
   "name": "python",
   "nbconvert_exporter": "python",
   "pygments_lexer": "ipython3",
   "version": "3.9.1"
  }
 },
 "nbformat": 4,
 "nbformat_minor": 5
}
