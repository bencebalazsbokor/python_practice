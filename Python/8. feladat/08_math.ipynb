{
 "cells": [
  {
   "cell_type": "markdown",
   "id": "689ce0ad",
   "metadata": {},
   "source": [
    "1. Írj egy függvényt, amely paraméterként megkapja egy derékszögű háromszög 2 befogóját és egy listában visszaadja az átfogójának hosszát, valamint a maradék 2 szögének nagyságát! https://www.mathsisfun.com/sine-cosine-tangent.html"
   ]
  },
  {
   "cell_type": "code",
   "execution_count": 1,
   "id": "503d6f9b",
   "metadata": {},
   "outputs": [
    {
     "name": "stdout",
     "output_type": "stream",
     "text": [
      "5.0\n",
      "36.86989764584402\n",
      "53.13010235415599\n"
     ]
    }
   ],
   "source": [
    "import math\n",
    "\n",
    "def atfogo(a, b):\n",
    "    c = math.pow(a, 2) + math.pow(b, 2)\n",
    "    c = math.sqrt(c)\n",
    "    \n",
    "    sin_alpha = a / c # a oldallal szemközti szög szinusza\n",
    "    sin_beta = b / c # b oldallal szemközti szög szinusza\n",
    "    \n",
    "    alpha = math.degrees(math.asin(sin_alpha))\n",
    "    beta = math.degrees(math.asin(sin_beta))\n",
    "    \n",
    "    return [c, alpha, beta]\n",
    "    \n",
    "results = atfogo(3, 4)\n",
    "for r in results:\n",
    "    print(r)"
   ]
  },
  {
   "cell_type": "markdown",
   "id": "482683f4",
   "metadata": {},
   "source": [
    "2. Írj egy függvényt, amelynek bejövő paramétere egy tetszőleges hosszúságú egész számokból álló lista. A függvény a kapott list növekvő sorba rendezi, majd generál egy 0 és 1 közötti véletlen számot, amelynek a százszorosa szerinti percentilis értékig adja vissza a tömböt. Példa: a paraméterként átadott lista: [1, 2, 3, 4, 5, 6, 7, 8, 9, 10], a generált véletlen szám: 0,33, akkor a visszaadott lista [1, 2, 3, 4] https://en.wikipedia.org/wiki/Percentile"
   ]
  },
  {
   "cell_type": "code",
   "execution_count": 2,
   "id": "9cd74728",
   "metadata": {},
   "outputs": [
    {
     "name": "stdout",
     "output_type": "stream",
     "text": [
      "[1, 2, 3, 4]\n",
      "0.30361704074433504\n"
     ]
    }
   ],
   "source": [
    "import math\n",
    "import random\n",
    "\n",
    "def percentilis(lista):\n",
    "    lista = lista[:]\n",
    "    lista.sort()\n",
    "    r = random.random()\n",
    "    p_count = math.ceil(len(lista) * r)\n",
    "    return (lista[:p_count], r)\n",
    "\n",
    "results = percentilis([1, 2, 3, 4, 5, 6, 7, 8, 9, 10])\n",
    "print(results[0])\n",
    "print(results[1])"
   ]
  }
 ],
 "metadata": {
  "kernelspec": {
   "display_name": "Python 3 (ipykernel)",
   "language": "python",
   "name": "python3"
  },
  "language_info": {
   "codemirror_mode": {
    "name": "ipython",
    "version": 3
   },
   "file_extension": ".py",
   "mimetype": "text/x-python",
   "name": "python",
   "nbconvert_exporter": "python",
   "pygments_lexer": "ipython3",
   "version": "3.9.6"
  }
 },
 "nbformat": 4,
 "nbformat_minor": 5
}
