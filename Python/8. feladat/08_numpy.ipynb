{
 "cells": [
  {
   "cell_type": "markdown",
   "id": "48a0bbec",
   "metadata": {},
   "source": [
    "1. Írj egy függvényt, amely első paraméterként átadott 2D tömbből kinyeri azokat az értékeket, amelyek a második 2D tömbben is megtalálhatóak!"
   ]
  },
  {
   "cell_type": "code",
   "execution_count": 1,
   "id": "10594cf9",
   "metadata": {},
   "outputs": [
    {
     "name": "stdout",
     "output_type": "stream",
     "text": [
      "[0, 30, 50]\n"
     ]
    }
   ],
   "source": [
    "import numpy as np\n",
    "\n",
    "def common_values(a, b):\n",
    "    a = a.flatten() # használható a reshape függvény is\n",
    "    b = b.flatten()\n",
    "    o = []\n",
    "\n",
    "    for i in a:\n",
    "        if i not in b:\n",
    "            o.append(i)\n",
    "    \n",
    "    return o\n",
    "\n",
    "result = common_values(\n",
    "    np.array([[0, 10, 20], [30, 40, 50]]),\n",
    "    np.array([[10, 20, 5], [45, 40, 10]])\n",
    ")\n",
    "print(result)"
   ]
  },
  {
   "cell_type": "markdown",
   "id": "c1db4863",
   "metadata": {},
   "source": [
    "2. Írj egy függvényt, amely visszaadja a paraméterként átadott lista maximumának indexét!"
   ]
  },
  {
   "cell_type": "code",
   "execution_count": 2,
   "id": "78250962",
   "metadata": {},
   "outputs": [
    {
     "name": "stdout",
     "output_type": "stream",
     "text": [
      "6\n"
     ]
    }
   ],
   "source": [
    "import numpy as np\n",
    "\n",
    "def index_max(l): # np.argmax()\n",
    "    o = l[0]\n",
    "    i = 0\n",
    "\n",
    "    for j in range(len(l)):\n",
    "        if l[j] > o:\n",
    "            o = l[j]\n",
    "            i = j           \n",
    "\n",
    "    return i\n",
    "    \n",
    "print(index_max([1, 5, 7, 2, 5, 7, 9, 2, 5]))"
   ]
  },
  {
   "cell_type": "markdown",
   "id": "30b49f75",
   "metadata": {},
   "source": [
    "3. Írj egy függvényt, amely kiszámítja a paraméterként átadott n dimenziós Numpy tömbben található számok átlagát!"
   ]
  },
  {
   "cell_type": "code",
   "execution_count": 3,
   "id": "978f2b29",
   "metadata": {},
   "outputs": [
    {
     "name": "stdout",
     "output_type": "stream",
     "text": [
      "5.6\n"
     ]
    }
   ],
   "source": [
    "import numpy as np\n",
    "\n",
    "def atlag(k): # np.average\n",
    "    k = k.flatten()\n",
    "    o = 0\n",
    "    for i in k:\n",
    "        o += i\n",
    "\n",
    "    return o/len(k)\n",
    "\n",
    "print(atlag(np.array([1, 4, 6, 8, 9])))"
   ]
  },
  {
   "cell_type": "markdown",
   "id": "20d9321a",
   "metadata": {},
   "source": [
    "4. Írj egy függvényt, amely kiszámítja a paraméterként átadott percentilisét a szintén paraméterként átadott tömb értékeiből! ([https://hu.wikiqube.net/wiki/Percentile)!](https://hu.wikiqube.net/wiki/Percentile)!)"
   ]
  },
  {
   "cell_type": "code",
   "execution_count": 4,
   "id": "f5a32b62",
   "metadata": {},
   "outputs": [
    {
     "name": "stdout",
     "output_type": "stream",
     "text": [
      "4\n",
      "6\n"
     ]
    }
   ],
   "source": [
    "import numpy as np\n",
    "import math\n",
    "\n",
    "def perc(k, p):\n",
    "    k = np.sort(k)\n",
    "    return math.ceil((p/100)*len(k))\n",
    "    \n",
    "print(perc(np.array([2, 1, 5, 3, 4]), 80))\n",
    "print(perc(np.array([2, 1, 5, 3, 4, 6, 8, 9, 7, 10]), 55))"
   ]
  }
 ],
 "metadata": {
  "kernelspec": {
   "display_name": "Python 3 (ipykernel)",
   "language": "python",
   "name": "python3"
  },
  "language_info": {
   "codemirror_mode": {
    "name": "ipython",
    "version": 3
   },
   "file_extension": ".py",
   "mimetype": "text/x-python",
   "name": "python",
   "nbconvert_exporter": "python",
   "pygments_lexer": "ipython3",
   "version": "3.9.6"
  }
 },
 "nbformat": 4,
 "nbformat_minor": 5
}
