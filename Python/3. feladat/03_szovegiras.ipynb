{
 "cells": [
  {
   "cell_type": "markdown",
   "id": "ceecab5f",
   "metadata": {},
   "source": [
    "1. Hozz létre egy listát, amiben a hét napjai szerepelnek. Írd ki ezeket egy \"napok.csv\" fájlba úgy, hogy a napok pontosvesszővel legyenek elválasztva az első sorban, a másodikban pedig a napok hossza szerepeljen (szintén pontosvesszővel elválasztva)."
   ]
  },
  {
   "cell_type": "code",
   "execution_count": 1,
   "id": "937f4bb0",
   "metadata": {},
   "outputs": [],
   "source": [
    "napok = [\"Hétfő\", \"Kedd\", \"Szerda\", \"Csütörtök\", \"Péntek\", \"Szombat\", \"Vasárnap\"]\n",
    "hosszak = []\n",
    "for n in napok:\n",
    "    hosszak.append(str(len(n)))\n",
    "\n",
    "with open(\"napok.csv\", \"w\") as f:\n",
    "    f.write(\";\".join(napok))\n",
    "    f.write(\"\\n\")\n",
    "    f.write(\";\".join(hosszak))    "
   ]
  },
  {
   "cell_type": "markdown",
   "id": "605a5a43",
   "metadata": {},
   "source": [
    "2. Írj egy függvényt, aminek az első bemenő paramétere egy fájlnév, a második egy szövegekből álló lista. (A bemeneteket nem kell ellenőrizni, felteheted, hogy rendben vannak.) A függvény írja a lista elemeit soronként a megadott fájlba."
   ]
  },
  {
   "cell_type": "code",
   "execution_count": 2,
   "id": "efab5b4e",
   "metadata": {},
   "outputs": [],
   "source": [
    "def write_list_to_file(file_name, list):\n",
    "    with open(file_name, \"w\") as f:\n",
    "        f.write(\"\\n\".join(list)) \n",
    "\n",
    "napok = [\"Hétfő\", \"Kedd\", \"Szerda\", \"Csütörtök\", \"Péntek\", \"Szombat\", \"Vasárnap\"]\n",
    "write_list_to_file(\"napok2.csv\", napok)"
   ]
  },
  {
   "cell_type": "markdown",
   "id": "35f9ee00",
   "metadata": {},
   "source": [
    "3. Az előző feladatban szereplő függvényt módosítsd úgy, hogy az első sorba pontosvesszővel elválasztva kerüljenek a szövegek. A második sorban ugyanez a tartalom legyen eltolva úgy, hogy a szöveg lista első eleme a sor végére kerüljön. Ezt folytasd egészen addig, míg újra előáll az eredeti sor, de azt már ne írd a fájlba."
   ]
  },
  {
   "cell_type": "code",
   "execution_count": 3,
   "id": "844752c8",
   "metadata": {},
   "outputs": [],
   "source": [
    "def write_list_to_file(file_name, list):\n",
    "    output = []\n",
    "    for i in range(0, len(list)):\n",
    "        if(i == 0):\n",
    "            output.append(\";\".join(list))\n",
    "            continue\n",
    "        line_list = list[i:] + list[:i]\n",
    "        output.append(\";\".join(line_list))                \n",
    "    with open(file_name, \"w\") as f:\n",
    "        f.write(\"\\n\".join(output)) \n",
    "\n",
    "napok = [\"Hétfő\", \"Kedd\", \"Szerda\", \"Csütörtök\", \"Péntek\", \"Szombat\", \"Vasárnap\"]\n",
    "write_list_to_file(\"napok3.csv\", napok)"
   ]
  }
 ],
 "metadata": {
  "kernelspec": {
   "display_name": "Python 3 (ipykernel)",
   "language": "python",
   "name": "python3"
  },
  "language_info": {
   "codemirror_mode": {
    "name": "ipython",
    "version": 3
   },
   "file_extension": ".py",
   "mimetype": "text/x-python",
   "name": "python",
   "nbconvert_exporter": "python",
   "pygments_lexer": "ipython3",
   "version": "3.9.6"
  }
 },
 "nbformat": 4,
 "nbformat_minor": 5
}
