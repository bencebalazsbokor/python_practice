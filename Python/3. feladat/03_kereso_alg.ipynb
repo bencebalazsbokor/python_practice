{
 "cells": [
  {
   "cell_type": "markdown",
   "id": "d7367d28",
   "metadata": {},
   "source": [
    "1. Valósíts meg egy maximum kereső függvényt, ami változó számú paramétert, és listát is elfogad bemenetként. A bemenet feldolgozásakor figyelj arra, hogy ne rontsa el a feldolgozást néhány hibás adat. A programnak csak számokra kell működnie."
   ]
  },
  {
   "cell_type": "code",
   "execution_count": 1,
   "id": "898373dd",
   "metadata": {},
   "outputs": [
    {
     "name": "stdout",
     "output_type": "stream",
     "text": [
      "10\n"
     ]
    }
   ],
   "source": [
    "def max_search(*args):\n",
    "    max_value = None\n",
    "    for a in args:\n",
    "        if(not(isinstance(a, (int, float)))):\n",
    "            continue\n",
    "        if(max_value == None or a > max_value):\n",
    "            max_value = a\n",
    "    return max_value\n",
    "    \n",
    "print(max_search(3, 2, 6, 8, 10, 7))"
   ]
  },
  {
   "cell_type": "markdown",
   "id": "04010eb0",
   "metadata": {},
   "source": [
    "2. Az előző feladat módosított változata: A szimpla és listában megadott bemenetek keverékét és egymásba ágyazott listákat is tudjon kezelni a függvény! (Ez a tárgy szintjéhez képest nagyon nehéz feladat. Azoknak szól, akik szeretik a kihívást.)"
   ]
  },
  {
   "cell_type": "code",
   "execution_count": 2,
   "id": "0bcffac4",
   "metadata": {},
   "outputs": [
    {
     "name": "stdout",
     "output_type": "stream",
     "text": [
      "17\n"
     ]
    }
   ],
   "source": [
    "def max_search(*args):\n",
    "    max_value = None\n",
    "    for a in args:\n",
    "        if(isinstance(a, list)):\n",
    "            # lista esetén rekurzív függvényhívás, és az eredmény kerül a lista helyére\n",
    "            # a változó előtti csillag szétszedi a lista elemeit a *args bemenetbe\n",
    "            # így nem egy listaként megy át az adat\n",
    "            a = max_search(*a) \n",
    "        if(not(isinstance(a, (int, float)))):\n",
    "            continue\n",
    "        if(max_value == None or a > max_value):\n",
    "            max_value = a\n",
    "    return max_value\n",
    "    \n",
    "print(max_search(3, [2, [5, 1, 12], 17], 6, 8, 10, 7))"
   ]
  }
 ],
 "metadata": {
  "kernelspec": {
   "display_name": "Python 3 (ipykernel)",
   "language": "python",
   "name": "python3"
  },
  "language_info": {
   "codemirror_mode": {
    "name": "ipython",
    "version": 3
   },
   "file_extension": ".py",
   "mimetype": "text/x-python",
   "name": "python",
   "nbconvert_exporter": "python",
   "pygments_lexer": "ipython3",
   "version": "3.9.6"
  }
 },
 "nbformat": 4,
 "nbformat_minor": 5
}
