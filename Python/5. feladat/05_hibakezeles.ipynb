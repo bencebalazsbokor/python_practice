{
 "cells": [
  {
   "cell_type": "markdown",
   "id": "2fc19773",
   "metadata": {},
   "source": [
    "1. Egészítsd ki a divide függvényt, hogy helytelen típusú input esetén is dobjon kivételt!"
   ]
  },
  {
   "cell_type": "code",
   "execution_count": 1,
   "id": "7702db49",
   "metadata": {},
   "outputs": [
    {
     "name": "stdout",
     "output_type": "stream",
     "text": [
      "Az input paraméterek típusa vagy float vagy integer kell legyen.\n",
      "Finally\n"
     ]
    }
   ],
   "source": [
    "def divide(x, y):\n",
    "    try:\n",
    "        result = x / y\n",
    "    except TypeError:\n",
    "        print(\"Az input paraméterek típusa vagy float vagy integer kell legyen.\")\n",
    "    except ZeroDivisionError:\n",
    "        print(\"Nullával nem lehet osztani!\")\n",
    "    else:\n",
    "        print(\"Az eredmény: \", result)\n",
    "    finally:\n",
    "        print(\"Finally\")\n",
    "        \n",
    "        \n",
    "divide(\"2\", \"1\")"
   ]
  }
 ],
 "metadata": {
  "kernelspec": {
   "display_name": "Python 3 (ipykernel)",
   "language": "python",
   "name": "python3"
  },
  "language_info": {
   "codemirror_mode": {
    "name": "ipython",
    "version": 3
   },
   "file_extension": ".py",
   "mimetype": "text/x-python",
   "name": "python",
   "nbconvert_exporter": "python",
   "pygments_lexer": "ipython3",
   "version": "3.9.6"
  }
 },
 "nbformat": 4,
 "nbformat_minor": 5
}
