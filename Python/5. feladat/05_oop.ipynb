{
 "cells": [
  {
   "cell_type": "markdown",
   "id": "3844f62a",
   "metadata": {},
   "source": [
    "1. Hozz létre egy osztályt, ami egy Hallgató nevét és Neptun kódját tárolja. Hozz létre egy listát a kódban, és adj hozzá három hallgató példányt."
   ]
  },
  {
   "cell_type": "code",
   "execution_count": 1,
   "id": "2cf4d431",
   "metadata": {},
   "outputs": [
    {
     "name": "stdout",
     "output_type": "stream",
     "text": [
      "Winch Eszter\tABC123\n",
      "Gipsz Jakab\tXYZ456\n",
      "Figy Elek\tDEF987\n"
     ]
    }
   ],
   "source": [
    "class Hallgato():\n",
    "    def __init__(self, nev, neptun):        \n",
    "        self.nev = nev\n",
    "        self.neptun = neptun\n",
    "        \n",
    "lista = []\n",
    "lista.append(Hallgato(\"Winch Eszter\", \"ABC123\"))\n",
    "lista.append(Hallgato(\"Gipsz Jakab\", \"XYZ456\"))\n",
    "lista.append(Hallgato(\"Figy Elek\", \"DEF987\"))\n",
    "\n",
    "for h in lista:\n",
    "    print(f\"{h.nev}\\t{h.neptun}\")"
   ]
  },
  {
   "cell_type": "markdown",
   "id": "64c0acf4",
   "metadata": {},
   "source": [
    "2. Készíts egy a Jarmu osztályból származtatott Repulo osztályt, paraméterként adj hozzá egy Boolean típusú változót, amely azt tárolja, hogy a repülőgép futóműve behúzható-e!"
   ]
  },
  {
   "cell_type": "code",
   "execution_count": 2,
   "id": "90d59900",
   "metadata": {},
   "outputs": [
    {
     "name": "stdout",
     "output_type": "stream",
     "text": [
      "A jármű színe: piros\n",
      "A jármű színe: kek\n",
      "Kerekeinek száma: 4\n",
      "A jármű színe: sarga\n",
      "A futóműve: Behúzható\n"
     ]
    }
   ],
   "source": [
    "# Az órán megírt Jármű osztály\n",
    "class Jarmu:\n",
    "    def __init__(self, szin):\n",
    "        self.szin = szin\n",
    "\n",
    "    def megjelenit(self):\n",
    "        print('A jármű színe: {:}'.format(self.szin))\n",
    "\n",
    "# Az órán megírt Auto osztály\n",
    "class Auto(Jarmu):\n",
    "    def __init__(self, szin, kerekek_szama):        \n",
    "        Jarmu.__init__(self, szin)        \n",
    "        self.kerekek_szama = kerekek_szama\n",
    "        \n",
    "    def megjelenit(self):\n",
    "        print('A jármű színe: {:}\\nKerekeinek száma: {:}'.format(self.szin, self.kerekek_szama))\n",
    "\n",
    "# Új Repülő osztály\n",
    "class Repulo(Jarmu):\n",
    "    def __init__(self, szin, behuzhato_futomu):        \n",
    "        Jarmu.__init__(self, szin)        \n",
    "        self.behuzhato_futomu = behuzhato_futomu\n",
    "        \n",
    "    def megjelenit(self):\n",
    "        if self.behuzhato_futomu:\n",
    "            futomu_szoveg = \"Behúzható\"            \n",
    "        else:\n",
    "            futomu_szoveg = \"Nem behúzható\"\n",
    "        print('A jármű színe: {:}\\nA futóműve: {:}'.format(self.szin, futomu_szoveg))\n",
    "\n",
    "\n",
    "j = Jarmu('piros')\n",
    "j.megjelenit()\n",
    "\n",
    "a = Auto('kek', 4)\n",
    "a.megjelenit()\n",
    "\n",
    "r = Repulo('sarga', True)\n",
    "r.megjelenit()"
   ]
  },
  {
   "cell_type": "markdown",
   "id": "4d6abba1",
   "metadata": {},
   "source": [
    "3. Készíts egy programot, ami egy rendszer felhasználóit kezeli. Hozz létre egy User osztályt, amiben tárolhatod külön a vezeték és utóneveket. Az osztálynak legyen egy függvénye, amit meghívva megjelenik a felhasználó teljes neve."
   ]
  },
  {
   "cell_type": "code",
   "execution_count": 3,
   "id": "efc6f5dd",
   "metadata": {},
   "outputs": [
    {
     "name": "stdout",
     "output_type": "stream",
     "text": [
      "Winch Eszter\n"
     ]
    }
   ],
   "source": [
    "class User():\n",
    "    def __init__(self, vezetek_nev, kereszt_nev):        \n",
    "        self.vezetek_nev = vezetek_nev\n",
    "        self.kereszt_nev = kereszt_nev\n",
    "    \n",
    "    def teljes_nev(self):\n",
    "        print(f\"{self.vezetek_nev} {self.kereszt_nev}\")\n",
    "        \n",
    "u = User(\"Winch\", \"Eszter\")\n",
    "u.teljes_nev()"
   ]
  },
  {
   "cell_type": "markdown",
   "id": "1012b960",
   "metadata": {},
   "source": [
    "4. Származtass egy osztályt az előző User osztályból EnglishUser néven. Az EnglishUser-ben írd felül a név megjelenítő függvényt úgy, hogy az angol sorrendnek megfelelően írja ki a nevet."
   ]
  },
  {
   "cell_type": "code",
   "execution_count": 4,
   "id": "780af27a",
   "metadata": {},
   "outputs": [
    {
     "name": "stdout",
     "output_type": "stream",
     "text": [
      "Winch Eszter\n",
      "Eszter Winch\n"
     ]
    }
   ],
   "source": [
    "class User():\n",
    "    def __init__(self, vezetek_nev, kereszt_nev):        \n",
    "        self.vezetek_nev = vezetek_nev\n",
    "        self.kereszt_nev = kereszt_nev\n",
    "    \n",
    "    def teljes_nev(self):\n",
    "        print(f\"{self.vezetek_nev} {self.kereszt_nev}\")\n",
    "        \n",
    "class EnglishUser(User):\n",
    "    def __init__(self, vezetek_nev, kereszt_nev):        \n",
    "        User.__init__(self, vezetek_nev, kereszt_nev)\n",
    "    \n",
    "    def teljes_nev(self):\n",
    "        print(f\"{self.kereszt_nev} {self.vezetek_nev}\")\n",
    "        \n",
    "u = User(\"Winch\", \"Eszter\")\n",
    "u.teljes_nev()\n",
    "\n",
    "e = EnglishUser(\"Winch\", \"Eszter\")\n",
    "e.teljes_nev()"
   ]
  }
 ],
 "metadata": {
  "kernelspec": {
   "display_name": "Python 3 (ipykernel)",
   "language": "python",
   "name": "python3"
  },
  "language_info": {
   "codemirror_mode": {
    "name": "ipython",
    "version": 3
   },
   "file_extension": ".py",
   "mimetype": "text/x-python",
   "name": "python",
   "nbconvert_exporter": "python",
   "pygments_lexer": "ipython3",
   "version": "3.9.6"
  }
 },
 "nbformat": 4,
 "nbformat_minor": 5
}
