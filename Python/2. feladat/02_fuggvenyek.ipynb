{
 "cells": [
  {
   "cell_type": "markdown",
   "id": "2bef0c11",
   "metadata": {},
   "source": [
    "1. Készíts függvényt, ami megállapítja hogy hány nagybetű van egy karakterláncban! (`isupper` függvény használható)"
   ]
  },
  {
   "cell_type": "code",
   "execution_count": 1,
   "id": "c21f1c86",
   "metadata": {},
   "outputs": [
    {
     "name": "stdout",
     "output_type": "stream",
     "text": [
      "3\n"
     ]
    }
   ],
   "source": [
    "def nagybetuk_szama(szoveg):\n",
    "    darab = 0\n",
    "    for c in szoveg:\n",
    "        if c.isupper():\n",
    "            darab += 1\n",
    "    return darab\n",
    "    \n",
    "print(nagybetuk_szama(\"Budapesti Corvinus Egyetem\"))"
   ]
  },
  {
   "cell_type": "markdown",
   "id": "152b7d37",
   "metadata": {},
   "source": [
    "2. Készíts függvényt, amely egy megadott karakterláncot megfordít!"
   ]
  },
  {
   "cell_type": "code",
   "execution_count": 2,
   "id": "d8e71cf9",
   "metadata": {},
   "outputs": [
    {
     "name": "stdout",
     "output_type": "stream",
     "text": [
      "meteygE sunivroC itsepaduB\n"
     ]
    }
   ],
   "source": [
    "def fordit(szoveg):    \n",
    "    return szoveg[::-1]\n",
    "    \n",
    "print(fordit(\"Budapesti Corvinus Egyetem\"))"
   ]
  },
  {
   "cell_type": "markdown",
   "id": "76a51319",
   "metadata": {},
   "source": [
    "3. Készíts függvényt, amely egy adott bemenetről megállapítja, hogy [palindróma](https://hu.wikiquote.org/wiki/Magyar_nyelv%C5%B1_palindromok_list%C3%A1ja)-e vagy sem!"
   ]
  },
  {
   "cell_type": "code",
   "execution_count": 3,
   "id": "4d5309c4",
   "metadata": {},
   "outputs": [
    {
     "name": "stdout",
     "output_type": "stream",
     "text": [
      "True\n"
     ]
    }
   ],
   "source": [
    "def fordit(szoveg):    \n",
    "    return szoveg[::-1]\n",
    "\n",
    "def is_palindroma(szoveg):    \n",
    "    return szoveg.lower().replace(\" \", \"\") == fordit(szoveg.lower().replace(\" \", \"\")) \n",
    "    \n",
    "print(is_palindroma(\"Tele mezítelennel e tíz emelet\"))"
   ]
  },
  {
   "cell_type": "markdown",
   "id": "ed8e5ea5",
   "metadata": {},
   "source": [
    "4. Készíts függvényt, amely egy adott bemenetről megállapítja, hogy (magyar nyelvű) [Pangramma](https://hu.wikipedia.org/wiki/Pangramma)-e vagy sem! (Ehhez neked kell felsorolni a magyar betűket a kódban!)"
   ]
  },
  {
   "cell_type": "code",
   "execution_count": 4,
   "id": "377b709d",
   "metadata": {},
   "outputs": [
    {
     "name": "stdout",
     "output_type": "stream",
     "text": [
      "True\n"
     ]
    }
   ],
   "source": [
    "def is_pangramma(szoveg):\n",
    "    karakterek = \"aábcdeéfghiíjklmnoóöőpqrstuúüűvwxyz\"\n",
    "    for c in szoveg:\n",
    "        karakterek = karakterek.replace(c.lower(), \"\")\n",
    "    return karakterek == \"\"\n",
    "    \n",
    "\n",
    "print(is_pangramma(\"Egy hűtlen vejét fülöncsípő, dühös mexikói úr Wesselényinél mázol Quitóban.\"))"
   ]
  },
  {
   "cell_type": "markdown",
   "id": "a4914975",
   "metadata": {},
   "source": [
    "5. Készíts függvényt amely tetszőleges számú bemenetből kiszámolja a megadott számok [harmonikus közepét](https://hu.wikipedia.org/wiki/Harmonikus_k%C3%B6z%C3%A9p)! (Kezeld a potenciális hibás bemeneteket is!)"
   ]
  },
  {
   "cell_type": "code",
   "execution_count": 5,
   "id": "26c812db",
   "metadata": {},
   "outputs": [
    {
     "name": "stdout",
     "output_type": "stream",
     "text": [
      "16.363636363636363\n"
     ]
    }
   ],
   "source": [
    "def harmonikus(*args):\n",
    "    sum = 0\n",
    "    count = 0\n",
    "    for a in args:\n",
    "        if not(isinstance(a, (int, float))) or a == 0:\n",
    "            continue\n",
    "        sum += 1 / a\n",
    "        count += 1\n",
    "    if count == 0:\n",
    "        return 0\n",
    "    else:\n",
    "        return count / sum        \n",
    "\n",
    "print(harmonikus(10, 20, 30))"
   ]
  },
  {
   "cell_type": "markdown",
   "id": "b5e6f6a6",
   "metadata": {},
   "source": [
    "6. Készíts függvényt amely meghatározza két szám legnagyobb közös osztóját az euklideszi algoritmus segítségével!"
   ]
  },
  {
   "cell_type": "code",
   "execution_count": 6,
   "id": "c23e6e8d",
   "metadata": {},
   "outputs": [
    {
     "name": "stdout",
     "output_type": "stream",
     "text": [
      "12\n"
     ]
    }
   ],
   "source": [
    "def lnko(a, b):\n",
    "    a = abs(a)\n",
    "    b = abs(b)\n",
    "    while b != 0:\n",
    "        m = a % b\n",
    "        a = b\n",
    "        b = m\n",
    "        # print(f\"{a}, {b}\")\n",
    "    return a\n",
    "        \n",
    "print(lnko(1956, 1848))"
   ]
  }
 ],
 "metadata": {
  "kernelspec": {
   "display_name": "Python 3 (ipykernel)",
   "language": "python",
   "name": "python3"
  },
  "language_info": {
   "codemirror_mode": {
    "name": "ipython",
    "version": 3
   },
   "file_extension": ".py",
   "mimetype": "text/x-python",
   "name": "python",
   "nbconvert_exporter": "python",
   "pygments_lexer": "ipython3",
   "version": "3.9.6"
  }
 },
 "nbformat": 4,
 "nbformat_minor": 5
}
